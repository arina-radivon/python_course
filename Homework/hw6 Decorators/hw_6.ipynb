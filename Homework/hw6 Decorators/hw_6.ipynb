{
 "cells": [
  {
   "cell_type": "markdown",
   "id": "11a22a53",
   "metadata": {},
   "source": [
    "# Дектораторы\n",
    "\n",
    "В этом домашнем задании мы напишем собственные дектораторы, которые будут менять системные объекты. Но для начала мы с вами познакомимся с функцией `write`."
   ]
  },
  {
   "cell_type": "code",
   "execution_count": 1,
   "id": "2c2dc3b0",
   "metadata": {},
   "outputs": [
    {
     "name": "stdout",
     "output_type": "stream",
     "text": [
      "Hello, my lady! Hello, my honey!"
     ]
    },
    {
     "data": {
      "text/plain": [
       "32"
      ]
     },
     "execution_count": 1,
     "metadata": {},
     "output_type": "execute_result"
    }
   ],
   "source": [
    "import sys\n",
    "\n",
    "sys.stdout.write('Hello, my lady! Hello, my honey!')"
   ]
  },
  {
   "cell_type": "markdown",
   "id": "23c92635",
   "metadata": {},
   "source": [
    "Это метод объектов file-like классов, то есть классов, которые реализуют семантику \"Меня можно создать, из меня можно прочитать и в меня можно записать\".\n",
    "\n",
    "Самый главный пример такого объекта -- объект `file`, являющийся результатом вызова фукнции `open()`. Для простоты и универсальности взаимодействия, стандартный ввод и стандартный вывод тоже являются файлами, из которых можно читать и в которые можно писать. "
   ]
  },
  {
   "cell_type": "code",
   "execution_count": 2,
   "id": "0ce62055",
   "metadata": {},
   "outputs": [],
   "source": [
    "output = open(\"./some_test_data.txt\", 'w')"
   ]
  },
  {
   "cell_type": "code",
   "execution_count": 3,
   "id": "302f574f",
   "metadata": {},
   "outputs": [
    {
     "data": {
      "text/plain": [
       "3"
      ]
     },
     "execution_count": 3,
     "metadata": {},
     "output_type": "execute_result"
    }
   ],
   "source": [
    "output.write('123')"
   ]
  },
  {
   "cell_type": "code",
   "execution_count": 4,
   "id": "d08c53b4",
   "metadata": {},
   "outputs": [],
   "source": [
    "output.close()"
   ]
  },
  {
   "cell_type": "markdown",
   "id": "b3bcebad",
   "metadata": {},
   "source": [
    "Как вы могли заметить, функция возвращает число записанных байт. Это важная часть контракта, которую нужно поддержать, если вы хотите как-то подменять эту функцию."
   ]
  },
  {
   "cell_type": "markdown",
   "id": "23b94491",
   "metadata": {},
   "source": [
    "## Задача 1"
   ]
  },
  {
   "cell_type": "markdown",
   "id": "1eb22a2f",
   "metadata": {},
   "source": [
    "Для начала, давайте подменим метод `write` у объекта `sys.stdin` на такую функцию, которая перед каждым вызовом оригинальной функции записи данных в `stdout` допечатывает к тексту текущую метку времени."
   ]
  },
  {
   "cell_type": "code",
   "execution_count": 5,
   "id": "732073b9",
   "metadata": {},
   "outputs": [],
   "source": [
    "import sys\n",
    "from datetime import datetime  # Получаем класс datetime из модуля datetime\n",
    "\n",
    "original_write = sys.stdout.write\n",
    "\n",
    "def my_write(string_text):\n",
    "    current_datetime = datetime.now().strftime('[%Y-%m-%d %H:%M:%S]: ')\n",
    "    if string_text != '\\n':  # Без этого принт будет выводить дату и время в начале и конце строки\n",
    "        original_write(current_datetime + string_text)\n",
    "\n",
    "sys.stdout.write = my_write"
   ]
  },
  {
   "cell_type": "code",
   "execution_count": 6,
   "id": "d8f650f6",
   "metadata": {},
   "outputs": [
    {
     "name": "stdout",
     "output_type": "stream",
     "text": [
      "[2022-11-24 13:59:10]: 1, 2, 3"
     ]
    }
   ],
   "source": [
    "print('1, 2, 3')"
   ]
  },
  {
   "cell_type": "code",
   "execution_count": 3,
   "id": "37617332",
   "metadata": {},
   "outputs": [],
   "source": [
    "sys.stdout.write = original_write"
   ]
  },
  {
   "cell_type": "markdown",
   "id": "3c5e22b6",
   "metadata": {},
   "source": [
    "Вывод должен был бы быть примерно таким:"
   ]
  },
  {
   "cell_type": "markdown",
   "id": "e62d012d",
   "metadata": {},
   "source": [
    "```\n",
    "[2021-12-05 12:00:00]: 1, 2, 3\n",
    "```"
   ]
  },
  {
   "cell_type": "markdown",
   "id": "903fcee1",
   "metadata": {},
   "source": [
    "## Задача 2\n",
    "\n",
    "Упакуйте только что написанный код в декторатор. Весь вывод фукнции должен быть помечен временными метками так, как видно выше."
   ]
  },
  {
   "cell_type": "code",
   "execution_count": 7,
   "id": "5804423b",
   "metadata": {},
   "outputs": [],
   "source": [
    "def timed_output(function):\n",
    "    def wrapper(string_text):\n",
    "        sys.stdout.write = my_write\n",
    "        function(string_text)\n",
    "    return wrapper"
   ]
  },
  {
   "cell_type": "code",
   "execution_count": 8,
   "id": "f43373a5",
   "metadata": {},
   "outputs": [],
   "source": [
    "@timed_output\n",
    "def print_greeting(name):\n",
    "    print(f'Hello, {name}!')"
   ]
  },
  {
   "cell_type": "code",
   "execution_count": 9,
   "id": "6a2283db",
   "metadata": {},
   "outputs": [
    {
     "name": "stdout",
     "output_type": "stream",
     "text": [
      "[2022-11-24 13:59:49]: Hello, is it me you looking for?!"
     ]
    }
   ],
   "source": [
    "print_greeting('is it me you looking for?')"
   ]
  },
  {
   "cell_type": "markdown",
   "id": "37fad5fd",
   "metadata": {},
   "source": [
    "Вывод должен быть похож на следующий:\n",
    "\n",
    "```\n",
    "[2021-12-05 12:00:00]: Hello, Nikita!\n",
    "```"
   ]
  },
  {
   "cell_type": "markdown",
   "id": "8a3aee6d",
   "metadata": {},
   "source": [
    "## Задача 3\n",
    "\n",
    "Напишите декторатор, который будет перенаправлять вывод фукнции в файл. \n",
    "\n",
    "Подсказка: вы можете заменить объект sys.stdout каким-нибудь другим объектом."
   ]
  },
  {
   "cell_type": "code",
   "execution_count": 14,
   "id": "de733186",
   "metadata": {},
   "outputs": [],
   "source": [
    "import sys\n",
    "\n",
    "def redirect_output(filepath):\n",
    "    def wrapper(function):\n",
    "        try:\n",
    "            sys.stdout = open(filepath, 'w')\n",
    "            function()\n",
    "        finally:\n",
    "            sys.stdout.close()\n",
    "            sys.stdout = sys.__stdout__  \n",
    "    return wrapper"
   ]
  },
  {
   "cell_type": "code",
   "execution_count": 15,
   "id": "37e01742",
   "metadata": {},
   "outputs": [],
   "source": [
    "@redirect_output('./function_output.txt')\n",
    "def calculate():\n",
    "    for power in range(1, 5):\n",
    "        for num in range(1, 20):\n",
    "            print(num ** power, end=' ')\n",
    "        print()"
   ]
  },
  {
   "cell_type": "code",
   "execution_count": null,
   "id": "cc2cc013",
   "metadata": {},
   "outputs": [],
   "source": []
  }
 ],
 "metadata": {
  "kernelspec": {
   "display_name": "Python 3.10.8 ('Venv_study')",
   "language": "python",
   "name": "python3"
  },
  "language_info": {
   "codemirror_mode": {
    "name": "ipython",
    "version": 3
   },
   "file_extension": ".py",
   "mimetype": "text/x-python",
   "name": "python",
   "nbconvert_exporter": "python",
   "pygments_lexer": "ipython3",
   "version": "3.10.8"
  },
  "vscode": {
   "interpreter": {
    "hash": "f2b33584c03ba82e5a992a8d3c130e2c88f7c73b5cc1a00f7175d6ec4cbb6024"
   }
  }
 },
 "nbformat": 4,
 "nbformat_minor": 5
}
