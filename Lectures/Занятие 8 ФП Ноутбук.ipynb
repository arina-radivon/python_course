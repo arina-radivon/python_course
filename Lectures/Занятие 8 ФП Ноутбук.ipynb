{
 "cells": [
  {
   "cell_type": "markdown",
   "id": "113da560",
   "metadata": {
    "tags": [
     "hise-input"
    ]
   },
   "source": [
    "## Элементы функционального программирования в Python\n",
    "* [Чистые функции](#pure_functions)\n",
    "* Имутабельность\n",
    "* Функции, как объекты первого класса\n",
    "    * lambda\n",
    "    * частичное применение\n",
    "    * карирование\n",
    "    * [композиция](#composition)\n",
    "* Ленивые вычисления\n",
    "* map, filter\n",
    "* itertools, functools, operator\n",
    "* Примеры задач"
   ]
  },
  {
   "cell_type": "code",
   "execution_count": 1,
   "id": "522e744e",
   "metadata": {},
   "outputs": [],
   "source": [
    "import copy\n",
    "import collections\n",
    "import datetime\n",
    "import functools\n",
    "import itertools\n",
    "import operator\n",
    "\n",
    "import toolz\n",
    "from functional import seq as seq_\n"
   ]
  },
  {
   "cell_type": "markdown",
   "id": "12bd4614",
   "metadata": {},
   "source": [
    "<a id=’pure_functions’></a>\n",
    "## Чистые функции\n",
    "\n",
    "Чистые функции зависят только от своих параметров и возвращают только свой результат. Следующая функция вызванная несколько раз с одним и тем же аргументом выдаст разный результат."
   ]
  },
  {
   "cell_type": "code",
   "execution_count": 2,
   "id": "72f48ad9",
   "metadata": {},
   "outputs": [
    {
     "data": {
      "text/plain": [
       "False"
      ]
     },
     "execution_count": 2,
     "metadata": {},
     "output_type": "execute_result"
    }
   ],
   "source": [
    "# Чистые функции\n",
    "\n",
    "def is_new_year() -> bool:\n",
    "    today = datetime.date.today()\n",
    "    return today.day == 31 and today.month == 12\n",
    "\n",
    "is_new_year()\n"
   ]
  },
  {
   "cell_type": "code",
   "execution_count": 3,
   "id": "eda29827",
   "metadata": {
    "tags": [
     "hide_input",
     "hise-input"
    ]
   },
   "outputs": [
    {
     "data": {
      "text/plain": [
       "True"
      ]
     },
     "execution_count": 3,
     "metadata": {},
     "output_type": "execute_result"
    }
   ],
   "source": [
    "def pure_is_new_year(month: int, day: int) -> bool:\n",
    "    return month == 12 and day == 31\n",
    "\n",
    "pure_is_new_year(12, 31)\n"
   ]
  },
  {
   "cell_type": "code",
   "execution_count": 15,
   "id": "1c1a8f57-3fd9-48e5-8642-2824a7c86098",
   "metadata": {
    "scrolled": true,
    "tags": []
   },
   "outputs": [
    {
     "name": "stdout",
     "output_type": "stream",
     "text": [
      "Impure\n",
      "[2, 3, 5]\n",
      "[2, 3, 5]\n"
     ]
    }
   ],
   "source": [
    "# Чистые функции - имутабельность\n",
    "\n",
    "l = [1, 3, 2]\n",
    "\n",
    "def replace_first_element_and_sort(element: int, l: list[int]) -> list[int]:\n",
    "    l[0] = element\n",
    "    l.sort()\n",
    "    return l\n",
    "\n",
    "changed_l = replace_first_element_and_sort(5, l)\n",
    "print('Impure')\n",
    "print(l)\n",
    "print(changed_l)"
   ]
  },
  {
   "cell_type": "code",
   "execution_count": 16,
   "id": "9ecf82e8-0a8e-4caf-a17b-5960dc54fb64",
   "metadata": {
    "scrolled": true,
    "tags": []
   },
   "outputs": [
    {
     "name": "stdout",
     "output_type": "stream",
     "text": [
      "Pure\n",
      "[1, 3, 2]\n",
      "[2, 3, 5]\n"
     ]
    }
   ],
   "source": [
    "l = [1, 3, 2]\n",
    "\n",
    "def pure_replace_first_element_and_sort(element: int, l: list[int]) -> list[int]:\n",
    "    # l = l[:]\n",
    "    l = copy.deepcopy(l)\n",
    "    l[0] = element\n",
    "    return list(sorted(l))\n",
    "\n",
    "changed_l = pure_replace_first_element_and_sort(5, l)\n",
    "print('Pure')\n",
    "print(l)\n",
    "print(changed_l)\n"
   ]
  },
  {
   "cell_type": "markdown",
   "id": "007d6660",
   "metadata": {
    "tags": []
   },
   "source": [
    "###  1st class object"
   ]
  },
  {
   "cell_type": "code",
   "execution_count": 17,
   "id": "7c2ad7e1",
   "metadata": {},
   "outputs": [
    {
     "name": "stdout",
     "output_type": "stream",
     "text": [
      "I am foo\n",
      "I am foo\n",
      "foo\n"
     ]
    }
   ],
   "source": [
    "def foo_func():\n",
    "    print('I am foo')\n",
    "    \n",
    "bar_func = foo_func\n",
    "bar_func()\n",
    "\n",
    "\n",
    "func_list = [foo_func, bar_func]\n",
    "func_list[1]()\n",
    "d = {foo_func: 'foo'}\n",
    "print(d[foo_func])"
   ]
  },
  {
   "cell_type": "code",
   "execution_count": 50,
   "id": "baccc044",
   "metadata": {},
   "outputs": [
    {
     "name": "stdout",
     "output_type": "stream",
     "text": [
      "inner\n",
      "inner\n",
      "inner_v2\n"
     ]
    }
   ],
   "source": [
    "def function_creator():\n",
    "    def inner():\n",
    "        print('inner')\n",
    "        \n",
    "    return inner\n",
    "\n",
    "created_function = function_creator()\n",
    "created_function()\n",
    "\n",
    "def function_creator_v2(f):\n",
    "    \n",
    "    def inner():\n",
    "        f()\n",
    "        print('inner_v2')\n",
    "    \n",
    "    return inner\n",
    "\n",
    "function_creator_v2(created_function)()\n",
    "    \n",
    "    "
   ]
  },
  {
   "cell_type": "code",
   "execution_count": 8,
   "id": "2b37a94a-30eb-4870-8600-f38307a7c2ce",
   "metadata": {},
   "outputs": [
    {
     "name": "stdout",
     "output_type": "stream",
     "text": [
      "['a', 'a', 'a', 'b', 'b', 'b']\n"
     ]
    }
   ],
   "source": [
    "def is_a(char: str) -> bool:\n",
    "    return char == 'a'\n",
    "\n",
    "\n",
    "print(sorted('abbaab', key=is_a, reverse=True))"
   ]
  },
  {
   "cell_type": "markdown",
   "id": "2ddd1c3d-767f-40b6-b8c3-d24d92eec612",
   "metadata": {
    "tags": []
   },
   "source": [
    "#### lambda"
   ]
  },
  {
   "cell_type": "code",
   "execution_count": 29,
   "id": "8b9cc442-7889-4c0b-8a20-9487a376a88c",
   "metadata": {},
   "outputs": [
    {
     "name": "stdout",
     "output_type": "stream",
     "text": [
      "['a', 'a', 'a', 'b', 'b', 'b']\n"
     ]
    }
   ],
   "source": [
    "def lambda_example(a, b, c):\n",
    "    return a + b + c\n",
    "\n",
    "lambda_example = lambda a, b, c: a + b + c\n",
    "\n",
    "print(sorted('abbaab', key=lambda c: c == 'a', reverse=True))"
   ]
  },
  {
   "cell_type": "code",
   "execution_count": 19,
   "id": "59ebb302-c401-4da3-aad7-bc844e535fe0",
   "metadata": {},
   "outputs": [],
   "source": [
    "def my_filter(pred, seq):\n",
    "    result = []\n",
    "    for x in seq:\n",
    "        if pred(x):\n",
    "            result.append(x)\n",
    "    return result\n",
    "\n",
    "# Переиспользование\n",
    "seq = [1, 0, 2]\n",
    "non_zero = my_filter(bool, seq)\n",
    "only_odd = my_filter(lambda x: x % 2, seq)\n",
    "only_even = my_filter(lambda x: not x % 2, range(10))"
   ]
  },
  {
   "cell_type": "markdown",
   "id": "1d71b644",
   "metadata": {},
   "source": [
    "### Частичное применение\n",
    "Это процесс фиксации части аргументов функции"
   ]
  },
  {
   "cell_type": "code",
   "execution_count": 23,
   "id": "275c9147-65ac-4095-8a22-7656861a6097",
   "metadata": {},
   "outputs": [
    {
     "data": {
      "text/plain": [
       "[1, 2]"
      ]
     },
     "execution_count": 23,
     "metadata": {},
     "output_type": "execute_result"
    }
   ],
   "source": [
    "from functools import partial\n",
    "\n",
    "# filter(pred, seq)\n",
    "filter_bool = partial(my_filter, bool)\n",
    "\n",
    "list(filter_bool([0, 1, None, 2, None]))\n",
    "list(filter_bool([2, None]))\n",
    "\n",
    "foo = partial(filter_bool, [0, 1, None, 2, None])\n",
    "list(foo())"
   ]
  },
  {
   "cell_type": "code",
   "execution_count": 25,
   "id": "354b9caf",
   "metadata": {
    "scrolled": true
   },
   "outputs": [
    {
     "name": "stdout",
     "output_type": "stream",
     "text": [
      "[100, 3, 2]\n",
      "[2, 3, 100]\n",
      "[2, 3, 100]\n"
     ]
    }
   ],
   "source": [
    "#  f - частичное применение\n",
    "\n",
    "l = [1, 3, 2]\n",
    "\n",
    "\n",
    "def pure_replace_n_element_to(n: int, to: int, l: list[int]) -> list[int]:\n",
    "    l = l[:]\n",
    "    l[n] = to\n",
    "    return l\n",
    "\n",
    "\n",
    "pure_replace_first_element_to_100 = functools.partial(pure_replace_n_element_to, n=0, to=100)\n",
    "\n",
    "changed_l = pure_replace_first_element_to_100(l=l)\n",
    "print(changed_l)\n",
    "\n",
    "\n",
    "print(list(reversed(pure_replace_n_element_to(n=0, to=100, l=l))))\n",
    "print(list(reversed(pure_replace_first_element_to_100(l=l))))\n",
    "    \n",
    "    \n"
   ]
  },
  {
   "cell_type": "markdown",
   "id": "b515c110-3380-46c7-b479-3fbce5b0a213",
   "metadata": {
    "tags": []
   },
   "source": [
    "#### переиспользование"
   ]
  },
  {
   "cell_type": "code",
   "execution_count": 26,
   "id": "ed1754e9-b246-4f77-8770-6d6568cc6a38",
   "metadata": {},
   "outputs": [
    {
     "data": {
      "text/plain": [
       "[0, 2, 4, 6, 8]"
      ]
     },
     "execution_count": 26,
     "metadata": {},
     "output_type": "execute_result"
    }
   ],
   "source": [
    "from functools import partial\n",
    "\n",
    "def is_even(number):\n",
    "    return number % 2 == 0\n",
    "\n",
    "filter_even = partial(my_filter, is_even)\n",
    "list(filter_even(range(10)))"
   ]
  },
  {
   "cell_type": "markdown",
   "id": "43c35174-2e15-4a85-9c8e-8866907c5223",
   "metadata": {},
   "source": [
    "#### переиспользование"
   ]
  },
  {
   "cell_type": "code",
   "execution_count": 14,
   "id": "c69f16b2-b722-4d5d-acd7-033c1de8104b",
   "metadata": {},
   "outputs": [
    {
     "data": {
      "text/plain": [
       "[1, 3, 5, 7, 9]"
      ]
     },
     "execution_count": 14,
     "metadata": {},
     "output_type": "execute_result"
    }
   ],
   "source": [
    "from itertools import filterfalse\n",
    "\n",
    "filter_odd = partial(filterfalse, is_even)\n",
    "list(filter_odd(range(10)))"
   ]
  },
  {
   "cell_type": "markdown",
   "id": "46606338",
   "metadata": {
    "tags": []
   },
   "source": [
    "### map, filter..."
   ]
  },
  {
   "cell_type": "code",
   "execution_count": 55,
   "id": "1c355f63",
   "metadata": {},
   "outputs": [
    {
     "name": "stdout",
     "output_type": "stream",
     "text": [
      "['1 4', '2 5', '3 6']\n",
      "[0, 2, 4, 6, 8]\n"
     ]
    }
   ],
   "source": [
    "# urls = ['http://www.google.com', 'http://www.wikipedia.com', 'http://www.apple.com']\n",
    "# html_texts = []\n",
    "# for item in urls:\n",
    "#     html_texts.append(urlopen(item))\n",
    "# return html_texts\n",
    "\n",
    "\n",
    "# integers = [1, 2, 3, 4, 5]\n",
    "# fib_integers = []\n",
    "# for item in integers:\n",
    "#     fib_integers.append(fib(item))\n",
    "# return fib_integers\n",
    "\n",
    "\n",
    "print(list(map(lambda x, y: f'{x} {y}', [1, 2, 3], [4, 5, 6])))\n",
    "\n",
    "def is_even(x):\n",
    "    return (x % 2) == 0\n",
    "\n",
    "print(list(filter(is_even, range(10))))"
   ]
  },
  {
   "cell_type": "markdown",
   "id": "85095367",
   "metadata": {},
   "source": [
    "<a id=’composition’></a>\n",
    "### Композиция"
   ]
  },
  {
   "cell_type": "code",
   "execution_count": 35,
   "id": "ec15bf2c",
   "metadata": {},
   "outputs": [
    {
     "name": "stdout",
     "output_type": "stream",
     "text": [
      "22\n"
     ]
    },
    {
     "data": {
      "text/plain": [
       "['1', '2', '3', '4', '5', '6', '7', '8', '9']"
      ]
     },
     "execution_count": 35,
     "metadata": {},
     "output_type": "execute_result"
    }
   ],
   "source": [
    "#  f - композиция функций\n",
    "def compose2(f, g):\n",
    "    return lambda x: f(g(x))\n",
    "\n",
    "def double(x):\n",
    "    return x * 2\n",
    "\n",
    "def inc(x):\n",
    "    return x + 1\n",
    "\n",
    "# def inc_and_double(x):\n",
    "#     inced = inc(x) \n",
    "#     doubled_x = double(inced)\n",
    "#     return doubled_x\n",
    "\n",
    "inc_and_double = compose2(double, inc)\n",
    "\n",
    "print(inc_and_double(10))\n",
    "\n",
    "def compose(*fns):\n",
    "    init, *rest = reversed(fns)\n",
    "    \n",
    "    def inner(*args, **kwargs):\n",
    "        result = init(*args, **kwargs)\n",
    "        for fn in rest:\n",
    "            result = fn(result)\n",
    "        return result\n",
    "    \n",
    "    return inner\n",
    "    \n",
    "# Теперь мы можем делать всякие штуки (выполнение идет справа налево):\n",
    "mapv = compose(list, map)\n",
    "\n",
    "\n",
    "filterv = compose(list, filter)\n",
    "\n",
    "\n",
    "filterv(bool, range(3))\n",
    "\n",
    "map_str = partial(map, str)\n",
    "awesome = compose(list, map_str, filter)\n",
    "awesome(bool, range(10))\n",
    "\n",
    "# mapv(str, range(10)) == list(map(str, range(10)))\n"
   ]
  },
  {
   "cell_type": "markdown",
   "id": "cc0fad9a-00dd-4508-a308-742df7bb783b",
   "metadata": {},
   "source": [
    "#### Каррирование"
   ]
  },
  {
   "cell_type": "code",
   "execution_count": 32,
   "id": "00349648-c005-4ca8-b4f6-fe1e97cd4b42",
   "metadata": {},
   "outputs": [
    {
     "data": {
      "text/plain": [
       "10"
      ]
     },
     "execution_count": 32,
     "metadata": {},
     "output_type": "execute_result"
    }
   ],
   "source": [
    "#  f - каррирование (синтаксический сахар для partial)\n",
    "\n",
    "@toolz.curry\n",
    "def mul(x, y):\n",
    "    return x * y\n",
    "\n",
    "# mul_by_5 = partial(mul, 5)\n",
    "mul_by_5 = mul(5)\n",
    "\n",
    "\n",
    "mul_by_5(2)"
   ]
  },
  {
   "cell_type": "code",
   "execution_count": 8,
   "id": "1732c963-947a-473a-abd1-809df0f1a417",
   "metadata": {},
   "outputs": [
    {
     "ename": "NameError",
     "evalue": "name 'pure_replace_n_element_to' is not defined",
     "output_type": "error",
     "traceback": [
      "\u001b[0;31m---------------------------------------------------------------------------\u001b[0m",
      "\u001b[0;31mNameError\u001b[0m                                 Traceback (most recent call last)",
      "Cell \u001b[0;32mIn [8], line 1\u001b[0m\n\u001b[0;32m----> 1\u001b[0m pure_replace_n_element_to_curried \u001b[38;5;241m=\u001b[39m toolz\u001b[38;5;241m.\u001b[39mcurry(\u001b[43mpure_replace_n_element_to\u001b[49m)\n\u001b[1;32m      2\u001b[0m pure_replace_n_element_to_curried(\u001b[38;5;241m1\u001b[39m)(\u001b[38;5;241m100\u001b[39m)([\u001b[38;5;241m1\u001b[39m, \u001b[38;5;241m2\u001b[39m, \u001b[38;5;241m3\u001b[39m])\n\u001b[1;32m      3\u001b[0m pure_replace_first_element_to_100(l\u001b[38;5;241m=\u001b[39m[\u001b[38;5;241m1\u001b[39m, \u001b[38;5;241m2\u001b[39m, \u001b[38;5;241m3\u001b[39m])\n",
      "\u001b[0;31mNameError\u001b[0m: name 'pure_replace_n_element_to' is not defined"
     ]
    }
   ],
   "source": [
    "pure_replace_n_element_to_curried = toolz.curry(pure_replace_n_element_to)\n",
    "pure_replace_n_element_to_curried(1)(100)([1, 2, 3])\n",
    "pure_replace_first_element_to_100(l=[1, 2, 3])"
   ]
  },
  {
   "cell_type": "markdown",
   "id": "da46fc6b-3574-41d9-862d-f93c8ee1dcd7",
   "metadata": {
    "tags": []
   },
   "source": [
    "#### Ленивые вычисления"
   ]
  },
  {
   "cell_type": "markdown",
   "id": "a2e40583-d0a2-4c5d-b890-cf68a9640c3e",
   "metadata": {
    "tags": []
   },
   "source": [
    "##### Генераторы"
   ]
  },
  {
   "cell_type": "code",
   "execution_count": 42,
   "id": "965dedee-beaf-48fb-b466-01d04b8e55cb",
   "metadata": {},
   "outputs": [
    {
     "name": "stdout",
     "output_type": "stream",
     "text": [
      "heavy_operation2\n",
      "heavy_operation1\n",
      "heavy_operation2\n",
      "heavy_operation1\n"
     ]
    },
    {
     "data": {
      "text/plain": [
       "5"
      ]
     },
     "execution_count": 42,
     "metadata": {},
     "output_type": "execute_result"
    }
   ],
   "source": [
    "def my_filter(pred, seq):\n",
    "    for x in seq:\n",
    "        if pred(x):\n",
    "            yield x\n",
    "            \n",
    "            \n",
    "def even_generator(max):\n",
    "    n = 2\n",
    "    while n <= max:\n",
    "        result = n\n",
    "        n += 2\n",
    "        yield result\n",
    "\n",
    "g = even_generator(4)\n",
    "# print([i for i in g])\n",
    "# print(g)\n",
    "# print(next(g))\n",
    "# print(next(g))\n",
    "# print(next(g)) StopIteration\n",
    "\n",
    "\n",
    "def heavy_operation1(x):\n",
    "     print('heavy_operation1')\n",
    "     return x + 1\n",
    "\n",
    "def heavy_operation2(x):\n",
    "     print('heavy_operation2')\n",
    "     return x + 2\n",
    "\n",
    "g = map(heavy_operation1, map(heavy_operation2, [1, 2 ,3]))\n",
    "next(g)\n",
    "next(g)"
   ]
  },
  {
   "cell_type": "markdown",
   "id": "c9343133-eebd-41c9-98e9-de181a1f162a",
   "metadata": {},
   "source": [
    "##### Итераторы"
   ]
  },
  {
   "cell_type": "code",
   "execution_count": 26,
   "id": "093d9ad9-844f-4d45-bbd1-c0ae046008ce",
   "metadata": {},
   "outputs": [
    {
     "name": "stdout",
     "output_type": "stream",
     "text": [
      "[2, 4, 6, 8, 10]\n",
      "1\n",
      "2\n"
     ]
    }
   ],
   "source": [
    "class EvenIterator:\n",
    "\n",
    "    def __init__(self, end):\n",
    "        self.current_n = 2\n",
    "        self.end = end\n",
    "\n",
    "    def __iter__(self):\n",
    "        return self\n",
    "\n",
    "    def __next__(self):\n",
    "        if self.current_n <= self.end:\n",
    "            result = self.current_n\n",
    "            self.current_n += 2\n",
    "            return result\n",
    "\n",
    "        raise StopIteration\n",
    "\n",
    "print([i for i in EvenIterator(10)])\n",
    "\n",
    "\n",
    "iterator = iter([1, 2])\n",
    "print(iterator.__next__())\n",
    "print(next(iterator))\n",
    "# print(next(iterator))  StopIteration"
   ]
  },
  {
   "cell_type": "markdown",
   "id": "9e9bd32d",
   "metadata": {},
   "source": [
    "### functools, itertools, operator\n",
    "The operator module was mentioned earlier. It contains a set of functions corresponding to Python’s operators. These functions are often useful in functional-style code because they save you from writing trivial functions that perform a single operation."
   ]
  },
  {
   "cell_type": "code",
   "execution_count": 45,
   "id": "cc9315aa-2470-4b6c-b398-447bbcd92de5",
   "metadata": {},
   "outputs": [
    {
     "data": {
      "text/plain": [
       "[6, 7, 8]"
      ]
     },
     "execution_count": 45,
     "metadata": {},
     "output_type": "execute_result"
    }
   ],
   "source": [
    "add_5 = toolz.curry(operator.add)(5)\n",
    "list(map(add_5, [1, 2, 3]))"
   ]
  },
  {
   "cell_type": "markdown",
   "id": "5b29575d",
   "metadata": {
    "tags": []
   },
   "source": [
    "## Примеры задач\n"
   ]
  },
  {
   "cell_type": "markdown",
   "id": "dfcc1892-2d0e-402c-b590-c7dd10bc5655",
   "metadata": {
    "tags": []
   },
   "source": [
    "### Написать функцию, которая считает кол-во каждого слова в тексте"
   ]
  },
  {
   "cell_type": "code",
   "execution_count": 65,
   "id": "dce0513e-74b8-435e-9b94-1895e14491a3",
   "metadata": {},
   "outputs": [],
   "source": [
    " \n",
    "def stem(word: str) -> str:\n",
    "     \"\"\" Stem word to primitive form \"\"\"\n",
    "     return word.lower().rstrip(\",.!:;'-\\\"\").lstrip(\"'\\\"\")\n",
    "\n",
    "def wordcount_imperative(text: str) -> dict[str, int]:\n",
    "    word_count = collections.defaultdict(int)\n",
    "    words = text.split()\n",
    "    \n",
    "    for word in words:\n",
    "        stemed_word = stem(word)\n",
    "        word_count[stemed_word] += 1\n",
    "        \n",
    "    return dict(word_count)"
   ]
  },
  {
   "cell_type": "code",
   "execution_count": 63,
   "id": "88799c88-3af1-4528-b6e9-8cae3d425cb2",
   "metadata": {
    "tags": []
   },
   "outputs": [],
   "source": [
    "def wordcount_func(text):\n",
    "    return toolz.frequencies(map(stem, text.split()))"
   ]
  },
  {
   "cell_type": "code",
   "execution_count": 66,
   "id": "ef20314a-dfc4-4170-86a0-09d31446ce90",
   "metadata": {},
   "outputs": [
    {
     "name": "stdout",
     "output_type": "stream",
     "text": [
      "{'a': 5, 'b': 2, 'bb': 2}\n",
      "{'a': 5, 'b': 2, 'bb': 2}\n"
     ]
    }
   ],
   "source": [
    "text = 'a a b bb a a A BB b'\n",
    "print(wordcount_func(text))\n",
    "print(wordcount_imperative(text))"
   ]
  },
  {
   "cell_type": "code",
   "execution_count": 67,
   "id": "5cbc5d81-a3c3-409e-9dfa-6e78e1d49bf5",
   "metadata": {
    "tags": []
   },
   "outputs": [
    {
     "data": {
      "text/plain": [
       "{'a': 5, 'b': 2, 'bb': 2}"
      ]
     },
     "execution_count": 67,
     "metadata": {},
     "output_type": "execute_result"
    }
   ],
   "source": [
    "wordcount_func = toolz.compose(toolz.frequencies, toolz.curried.map(stem), str.split)\n",
    "\n",
    "wordcount_func(text)"
   ]
  },
  {
   "cell_type": "markdown",
   "id": "3b5476b5",
   "metadata": {
    "tags": []
   },
   "source": [
    "## Получить первые пять чисел, которые делятся без остатка на 100, превратить в строки."
   ]
  },
  {
   "cell_type": "code",
   "execution_count": 48,
   "id": "66d6b60e",
   "metadata": {},
   "outputs": [
    {
     "name": "stdout",
     "output_type": "stream",
     "text": [
      "['Number is 0', 'Number is 100', 'Number is 200', 'Number is 300', 'Number is 400']\n"
     ]
    }
   ],
   "source": [
    "def get_first_5_imperative():\n",
    "    result = []\n",
    "    for i in range(1_000_000):\n",
    "        if (i % 100) == 0:\n",
    "            result_str = f'Number is {i}'\n",
    "            result.append(result_str)\n",
    "\n",
    "        if len(result) == 5:\n",
    "            break\n",
    "    return result\n",
    "\n",
    "print(get_first_5_imperative())\n",
    "\n"
   ]
  },
  {
   "cell_type": "code",
   "execution_count": 47,
   "id": "2d5e15b8-1887-4630-9b63-bfbfb6382dfc",
   "metadata": {
    "tags": []
   },
   "outputs": [
    {
     "name": "stdout",
     "output_type": "stream",
     "text": [
      "['Number is 0', 'Number is 100', 'Number is 200', 'Number is 300', 'Number is 400']\n"
     ]
    }
   ],
   "source": [
    "source = range(1_000_000)\n",
    "\n",
    "def get_first_5_functional(source):\n",
    "    return itertools.islice(\n",
    "        map(\n",
    "            lambda num: f'Number is {num}',\n",
    "            filter(\n",
    "                lambda num: num % 100 == 0,\n",
    "                source,\n",
    "            )\n",
    "        ),\n",
    "        0,\n",
    "        5,\n",
    "    )\n",
    "\n",
    "print(list(get_first_5_functional(source)))\n",
    "\n"
   ]
  },
  {
   "cell_type": "code",
   "execution_count": 12,
   "id": "289ad092-864f-4125-a3c4-da5fec16ad7e",
   "metadata": {
    "tags": []
   },
   "outputs": [
    {
     "name": "stdout",
     "output_type": "stream",
     "text": [
      "['Number is 0', 'Number is 100', 'Number is 200', 'Number is 300', 'Number is 400']\n"
     ]
    }
   ],
   "source": [
    "def format_number(number: int) -> str:\n",
    "    return f'Number is {number}'\n",
    "\n",
    "\n",
    "def divided_by_number(number: int, n: int) -> bool:\n",
    "    return n % number == 0\n",
    "\n",
    "divided_by_100 = functools.partial(divided_by_number, 100)\n",
    "\n",
    "def get_first_5_functional(source):\n",
    "    return itertools.islice(map(format_number, filter(divided_by_100, source)),0,5)\n",
    "\n",
    "print(list(get_first_5_functional(source)))"
   ]
  },
  {
   "cell_type": "code",
   "execution_count": 68,
   "id": "85c6b9d1-4e12-446c-84b2-d29ab82d4377",
   "metadata": {
    "tags": []
   },
   "outputs": [
    {
     "data": {
      "text/plain": [
       "['Number is 0',\n",
       " 'Number is 100',\n",
       " 'Number is 200',\n",
       " 'Number is 300',\n",
       " 'Number is 400']"
      ]
     },
     "execution_count": 68,
     "metadata": {},
     "output_type": "execute_result"
    }
   ],
   "source": [
    "list(toolz.compose(toolz.curried.take(5), toolz.curried.map(format_number), toolz.curried.filter(divided_by_100))(source))"
   ]
  },
  {
   "cell_type": "markdown",
   "id": "962d3d91-d7f5-4b7b-b0fa-86ff77074de7",
   "metadata": {
    "tags": []
   },
   "source": [
    "### Композиция по-другому"
   ]
  },
  {
   "cell_type": "code",
   "execution_count": 49,
   "id": "6a27dcb0",
   "metadata": {
    "tags": []
   },
   "outputs": [
    {
     "data": {
      "text/plain": [
       "['Number is 5', 'Number is 105', 'Number is 205', 'Number is 305', 'Number is 405']"
      ]
     },
     "execution_count": 49,
     "metadata": {},
     "output_type": "execute_result"
    }
   ],
   "source": [
    "seq_(range(1_000_000))\\\n",
    "    .filter(divided_by_100)\\\n",
    "    .map(lambda x: x + 5)\\\n",
    "    .map(format_number)\\\n",
    "    .slice(0, 5)\n"
   ]
  }
 ],
 "metadata": {
  "celltoolbar": "Tags",
  "kernelspec": {
   "display_name": "Python 3 (ipykernel)",
   "language": "python",
   "name": "python3"
  },
  "language_info": {
   "codemirror_mode": {
    "name": "ipython",
    "version": 3
   },
   "file_extension": ".py",
   "mimetype": "text/x-python",
   "name": "python",
   "nbconvert_exporter": "python",
   "pygments_lexer": "ipython3",
   "version": "3.10.6"
  }
 },
 "nbformat": 4,
 "nbformat_minor": 5
}
